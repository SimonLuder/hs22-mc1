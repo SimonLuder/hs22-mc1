{
 "cells": [
  {
   "cell_type": "markdown",
   "id": "675ebcd7-18cb-4549-bd26-15893287e71b",
   "metadata": {},
   "source": [
    "## Producer 1\n",
    "\n",
    "**Description**: \n",
    "Sends single product ratings in frequent steps to the specified framework kafka or rabbitmq."
   ]
  },
  {
   "cell_type": "code",
   "execution_count": null,
   "id": "b16c6b8f-6c3b-449e-a19e-cf6ac4722735",
   "metadata": {},
   "outputs": [],
   "source": [
    "# !pip install pika\n",
    "# !pip install kafka-python\n",
    "# !pip install protobuf\n",
    "# !pip install -U memory_profiler\n",
    "# !pip install snakeviz"
   ]
  },
  {
   "cell_type": "code",
   "execution_count": null,
   "id": "8143718e-7349-46a9-9453-08b168e52ce2",
   "metadata": {},
   "outputs": [],
   "source": [
    "import json\n",
    "import time\n",
    "from helper_file import Producer\n",
    "from message_struc_pb2 import Rating\n",
    "\n",
    "\n",
    "topic = \"live_ratings\"\n",
    "file = \"src/json/Toys_and_Games_5.json\"\n",
    "hz = 5\n",
    "\n",
    "# producer_1 = Producer(framework='kafka', host_name=\"broker1\", port=9093)\n",
    "producer_1 = Producer(framework='rabbitmq', host_name=\"rabbitmq1\", port=5672)\n",
    "\n",
    "with open(file) as f:\n",
    "    for i, line in enumerate(f):\n",
    "        message = json.loads(line)\n",
    "        # print(message)\n",
    "     \n",
    "        rating = Rating()\n",
    "        rating.reviewerID = str(message[\"reviewerID\"])\n",
    "        rating.asin = str(message[\"asin\"])\n",
    "        rating.overall = int(message[\"overall\"])\n",
    "        rating.reviewText = str(message[\"reviewText\"])\n",
    "        \n",
    "        producer_1.produce(topic, message=rating)\n",
    "        if i % (hz*10) == 0:\n",
    "            print(f\"{i} ratings sent.\")\n",
    "        time.sleep(1/hz)"
   ]
  },
  {
   "cell_type": "code",
   "execution_count": null,
   "id": "e9600c0d-c8cf-4c94-a393-948f911e52d5",
   "metadata": {},
   "outputs": [],
   "source": []
  }
 ],
 "metadata": {
  "kernelspec": {
   "display_name": "Python 3 (ipykernel)",
   "language": "python",
   "name": "python3"
  },
  "language_info": {
   "codemirror_mode": {
    "name": "ipython",
    "version": 3
   },
   "file_extension": ".py",
   "mimetype": "text/x-python",
   "name": "python",
   "nbconvert_exporter": "python",
   "pygments_lexer": "ipython3",
   "version": "3.10.6"
  }
 },
 "nbformat": 4,
 "nbformat_minor": 5
}
