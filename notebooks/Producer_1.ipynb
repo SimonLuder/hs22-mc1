{
 "cells": [
  {
   "cell_type": "markdown",
   "id": "675ebcd7-18cb-4549-bd26-15893287e71b",
   "metadata": {},
   "source": [
    "## Producer 1\n",
    "\n",
    "**Description**: \n",
    "Sends single product ratings in frequent steps to the specified framework kafka or rabbitmq."
   ]
  },
  {
   "cell_type": "code",
   "execution_count": null,
   "id": "c17ab8a9-f85a-4c53-b6f1-3c2977cf1f11",
   "metadata": {},
   "outputs": [],
   "source": [
    "# !pip install pika\n",
    "# !pip install kafka-python"
   ]
  },
  {
   "cell_type": "code",
   "execution_count": null,
   "id": "866913b9-8f2c-42b0-b855-c001e48dc439",
   "metadata": {},
   "outputs": [],
   "source": [
    "import json\n",
    "import time\n",
    "from helper_file import Producer_1\n",
    "\n",
    "\n",
    "topic = \"live_ratings\"\n",
    "file = \"src/json/Toys_and_Games_5.json\"\n",
    "hz = 5\n",
    "\n",
    "producer_1 = Producer_1(framework='kafka', host_name=\"broker1\", port=9093)\n",
    "# producer_1 = Producer_1(framework='rabbitmq', host_name=\"rabbitmq1\", port=5672)\n",
    "\n",
    "with open(file) as f:\n",
    "    for i, line in enumerate(f):\n",
    "        message = json.loads(line)\n",
    "        producer_1.produce(topic, message)\n",
    "        if i % (hz*5) == 0:\n",
    "            print(f\"{i} ratings sent.\")\n",
    "        time.sleep(1/hz)"
   ]
  }
 ],
 "metadata": {
  "kernelspec": {
   "display_name": "Python 3 (ipykernel)",
   "language": "python",
   "name": "python3"
  },
  "language_info": {
   "codemirror_mode": {
    "name": "ipython",
    "version": 3
   },
   "file_extension": ".py",
   "mimetype": "text/x-python",
   "name": "python",
   "nbconvert_exporter": "python",
   "pygments_lexer": "ipython3",
   "version": "3.10.6"
  }
 },
 "nbformat": 4,
 "nbformat_minor": 5
}
