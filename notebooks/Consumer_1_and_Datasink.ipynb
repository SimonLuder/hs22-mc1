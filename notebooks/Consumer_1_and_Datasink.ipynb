{
 "cells": [
  {
   "cell_type": "markdown",
   "id": "6326367d-f377-44a6-9055-a9975f963207",
   "metadata": {},
   "source": [
    "## Consumer 1 & Datasink\n",
    "\n",
    "**Description:** Consumes the live ratings, calculates the most rated products with their average rating and saves it as .csv in the src/datasink folder"
   ]
  },
  {
   "cell_type": "code",
   "execution_count": null,
   "id": "c5992cf8-a690-4deb-a4db-8b07fa3a3262",
   "metadata": {},
   "outputs": [],
   "source": [
    "import warnings\n",
    "warnings.filterwarnings(\"ignore\") \n",
    "\n",
    "from helper_file import Consumer, DataSink_1\n",
    "from message_struc_pb2 import Rating\n",
    "\n",
    "topic = \"live_ratings\"\n",
    "\n",
    "datasink_1 = DataSink_1(path=\"./src/datasink/\")\n",
    "\n",
    "# consumer_1 = Consumer(datasink_1, framework='kafka', host_name=\"broker1\", port=9093)\n",
    "consumer_1 = Consumer(datasink_1, framework='rabbitmq', host_name=\"rabbitmq1\", port=5672)\n",
    "\n",
    "consumer_1.consume(topic, Rating)"
   ]
  }
 ],
 "metadata": {
  "kernelspec": {
   "display_name": "Python 3 (ipykernel)",
   "language": "python",
   "name": "python3"
  },
  "language_info": {
   "codemirror_mode": {
    "name": "ipython",
    "version": 3
   },
   "file_extension": ".py",
   "mimetype": "text/x-python",
   "name": "python",
   "nbconvert_exporter": "python",
   "pygments_lexer": "ipython3",
   "version": "3.10.6"
  }
 },
 "nbformat": 4,
 "nbformat_minor": 5
}
