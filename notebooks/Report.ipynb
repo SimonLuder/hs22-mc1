{
 "cells": [
  {
   "cell_type": "markdown",
   "id": "aa6f718f-41c0-4870-ac87-dcdc8367afe7",
   "metadata": {},
   "source": [
    "# HPC Minichallenge 1 - HS22"
   ]
  },
  {
   "cell_type": "markdown",
   "id": "d436de23-3d95-4217-8d11-97983dc197b2",
   "metadata": {},
   "source": [
    "## Teil 1"
   ]
  },
  {
   "cell_type": "markdown",
   "id": "38b93bf3-2fca-4b58-848f-93f7efd1a2d0",
   "metadata": {},
   "source": [
    "### Aufgabe 1.4\n",
    "\n",
    "In Kafka wird primär über vordefinierte Schnittstellen (Producer / Consumer) kommuniziert. Nutzer organisieren ihre Daten hierbei innerhalb von Topics. Kafka erlaubt es beim Erstellen neuer Topics die Anzahl an Partitionen als auch den Replikationsfaktor zu definieren. Der Replikationsfaktor bestimmt herbei, wie oft die Daten auf den verfügbaren Nodes dupliziert werden. Die Anzahl an Partitionen sind relevant, wenn es um die Parallelisierbarkeit der Schnittstellen geht.  Die genaue Verteilung der Daten in den Partitionen als auch die Aufteilung der Partitionen in einzelne Nodes organisiert Kafka eigenständig. Beim Monitoring via Kafdrop ist für jede Partition die Leader Node ersichtlich als auch die Priorität der Replikation Nodes. Das Abschalten einzelner Docker Container hat keinen grösseren Einfluss auf die Funktionsfähigkeit von Kafka, sofern der Replikationsfaktor genügend hoch gewählt ist. Solange mindestens eine Replikation in Kafka aktiv ist, ist es möglich weiterhin Informationen zu schreiben und abzugreifen. Der Kafka Zookeeper vergibt automatisch die ausgefallenen Leader auf die verfügbaren Replikation Nodes. Werden nun Partitionen auf Nodes durch das Wiedereinschalten von Containern erneut verfügbar, bleiben diese scheinbar als Leader Nodes disqualifiziert. "
   ]
  },
  {
   "cell_type": "markdown",
   "id": "41c1a893-dea3-4ba6-9b9d-cf91a168b287",
   "metadata": {},
   "source": [
    "### Aufgabe 1.7\n",
    "\n",
    "\n",
    "#### Daten: \n",
    "Die live Bewertungen werden durch den bestehenden Datensatz **Toys_and_Games_5.json** simuliert. Dieses ist einem Subset des Amazon Review Dataset von Ni Jianmo welches unter dem folgenden URL erreichbar ist: \n",
    "https://nijianmo.github.io/amazon/index.html\n",
    "\n",
    "#### Scenario: \n",
    "Ein Onlinehändler möchte auf seiner Webseite neu ein Live-Feed implementieren, mit dem Ziel, die Kunden dazu zu ermutigen mehr Produkte anzusehen. Dafür sollen im Live-Feed jeweils die fünf trendigen Produkte der letzten Minute mit den aktuellsten Kundenratings angezeigt werden. \n",
    "Für die Umsetzung möchte er die bereits bestehende Datenmanagement-Infrastruktur nutzen, in dem Ratings mittels Apache Kafka strukturiert werden. \n",
    "Diese ist in *Abbildung 1* aufgeführt.\n",
    "\n",
    "![Schema_1.png](Schema_1.png)\n",
    "\n",
    "#### Struktur:\n",
    "\n",
    "Das Kafka Environment ist auf verschiedene Images verteilt. Dieses beinhaltet das Kafka Cluster bestehend aus den drei Broker images *broker1*, *broker2* und *broker3*, als auch dem Zookeper *zookeper*, welcher die Kommunikation und Datenstrukturierung unter den Broker organisiert und in einem separaten Image läuft. Als zusätzlicher Mikroservice fürs Monitoring steht, das Kafdrop web UI zur Verfügung, welches über ein weiteres image *kafdrop1* ausgeführt wird.\n",
    "\n",
    "Im *jupyter1* Container wird sämtlicher in Python geschriebener Code ausgeführt.\n",
    "Hier befinden sich auch die vier Notebooks, von welchen der gesammte Prozess gesteuert werden kann.\n",
    "\n",
    "- **Producer_1.ipynb** simuliert die live Bewertungen der Kunden. Hierfür werden mit einer definierbaren Frequenz > 1 Hz einzelne Bewertungen aus dem Toys_and_Games_5.json gelesen und zu Kafka unter dem Topic `live_ratings` gesendet. \n",
    "\n",
    "- **Consumer_1.ipynb** erhält alle live Bewertungen, welche auf Kafka unter dem Topic  `live_ratings` publiziert wurden. In Kombination mit einem Datasink werden in minütlichen Abständen die Anzahl an Bewertungen pro Produkt als auch die durchschnittliche Produktbewertung errechnet und abgespeichert.\n",
    "\n",
    "- **Producer_2.ipynb** überprüft, ob neue Durchschnittsbewertungen vorhanden sind und publiziert jeweils die fünf Produkte mit den häufigsten Bewertungen auf ein neues Kafka Topic `top_ratings`.\n",
    "\n",
    "- **Consumer_2.ipynb** erhält die fünf  meist bewerteten Produkte aus dem Topic `top_ratings` und zeigt diese live als Barplot an.\n",
    "\n",
    "#### Verbesserungespotential\n",
    "\n",
    "Zukünftig können die einzelnen Scripts auf mehrere Container verteilt werden. Dadurch wäre es möglich, diese auf unterschiedliche Systeme laufen zu lassen."
   ]
  },
  {
   "cell_type": "markdown",
   "id": "71f77cc0-63b4-4d46-ade4-adf522f0a567",
   "metadata": {},
   "source": [
    "### 1. Bonusaufgabe:\n",
    "\n",
    "Ursprünglich wurden die Bewertungen im JSON Format gesendet. Diese Funktionalität wird nun in einem nächsten Schritt mit Google Protobuf implementiert. Protobuf ist ein binäres Format, welches besonders geeignet ist, wenn ein hochperformanter Datenaustausch von strukturell ähnlichen Nachrichten benötigt wird. Da wir durchgehend strukturell identische Informationen senden, eignet sich dieses Format auch gut für unseren Anwendungsfall.\n",
    "\n",
    "\n",
    "Um die Daten mit Protobuff senden zu können, musste zuerst die Struktur der Nachricht in einem proto File definiert werden. Für meinen Anwendungsfall benötigte ich drei verschiedene Nachrichten, welche im **message_struc.proto** File hinterlegt sind:\n",
    "1. `Rating`:  Einzelne Ratings von Kunden.\n",
    "2. `AverageRating`: Einzelne durchschnittliche Bewertung von Produkten.\n",
    "3. `AverageRatings`: Kollektion an durchschnittliche Bewertung von Produkten.\n",
    "\n",
    "Anschliessend wurde mit einem von Protobuf zur Verfügung gestellten Compilers das **message_struc_bp2.py** File erstellt, wodurch die einzelnen Formate in Python als Klassenobjekt importiert und verwendet werden können. \n",
    "\n",
    "- Der Compiler wurde über das folgende GitHub Repository heruntergeladen: [https://github.com/protocolbuffers/protobuf/releases](https://github.com/protocolbuffers/protobuf/releases) \n",
    "\n",
    "- Der Befehl zum kompilieren lautet: `protoc -I=. --python_out=. message_struc.proto`\n",
    "\n",
    "\n"
   ]
  },
  {
   "cell_type": "markdown",
   "id": "b2e04abe-d964-42ce-a7b8-fbd60f06e48f",
   "metadata": {},
   "source": [
    "## Teil 2\n",
    "\n",
    "### Aufgabe 2.1\n",
    "\n",
    "In diesem Schritt wird RabbitMQ als weiterer Message Broker hinzugefügt. \n",
    "\n",
    "Dafür wurde in einem ersten Schritt das **docker-compose.yml** angepasst. Hier wurde ein neuer Container *rabbitmq1* erstellt, welcher das rabbitmq:3.8-management-alpine image von docker-hub herunterlädt. Der Zusatz \"Management\" bedeutet hier, dass wir über einen zusätzlichen Port automatisch ein UI mitgeliefert erhalten, welches zum Monitoren verwendet werden kann. Dieses ist via [localhost:15672](localhost:15672) erreichbar\n",
    "\n",
    "\"Alpine\" bedeute hingegen legidlich, dass es sich um die speichereffiziente Variante handelt.\n",
    "\n",
    "Weiter wurden die bestehenden Klassen und ihre Methoden im **helper_file.py** angepasst und erweitert, sodass nun einfach zwischen Kafka und RabbitMQ gewechselt werden kann."
   ]
  },
  {
   "cell_type": "markdown",
   "id": "c29b53e6-75dd-4f9b-9149-584e30c0572c",
   "metadata": {},
   "source": [
    "### Aufgabe 2.2\n",
    "\n",
    "Nachfolgend in Visualisierung 2 ist nun die Implementation des Message Brokers mittels RabbitMQ visualisiert. \n",
    "\n",
    "![Schema_2.png](Schema_2.png)\n",
    "\n",
    "\n",
    "Anders als bei der Implementation mit Kafka wird hier aktuell nur ein weiterer Container genutzt, über welchen das ganze Message-Broker System läuft. Es ist jedoch auch mit RabbitMQ möglich ein Cluster mit mehreren Containern zu erstellen. Der *jupyter1* Container bleibt im Vergleich zur vorherigen Implementation unverändert. "
   ]
  },
  {
   "cell_type": "markdown",
   "id": "b598c1d8-2d6a-4dd3-82bf-c7485f4cc22a",
   "metadata": {},
   "source": [
    "### Aufgabe 2.3"
   ]
  },
  {
   "cell_type": "markdown",
   "id": "8ad9f58d-8eab-4ba2-b685-c44e4d616e90",
   "metadata": {},
   "source": [
    "RabbitMQ kommuniziert standardmässig mit dem binären AMQP-0.9.1 Protokoll, wobei auch noch andere Protokolle unterstützt werden. Siehe [www.rabbitmq.com/protocols](https://www.rabbitmq.com/protocols.html#:~:text=AMQP%200%2D9%2D1%20is%20the,protocol%20used%20by%20RabbitMQ%20tutorials) \n",
    "\n",
    "RabbitMQ selbst funktioniert als pub-sub Kommunikationspattern. Die Daten werden beim publishen mit RabbitMQ zuerst auf eine Exchange gesendet, wobei es mehrere Arten von Exchanges gibt. Ich nutze den Exchange-Typ `Direkt`, was bedeutet, dass unter Verwendung eines Message-Routing-Schlüssel Nachrichten von der Exchange kopiert und die Kopien direkt zu einer Queue hinzugefügt werden.\n",
    "\n",
    "Alternative Exchange-Typen wären:\n",
    "- `Topic`: Hier werden Nachrichten basierend auf sub-strings einer oder auch mehreren Queues zugeordnet. Dabei muss die Queue gleich heissen wie der relevante Sub-string.\n",
    "\n",
    "- `Fanout`: Verteilt alle Nachrichten an alle an eine Exchange gebundene Exchange. Der Message-Routing-Schlüssel wird hier ignoriert.\n",
    "\n",
    "- `Header`: Gleich wie Topic, aber anstelle des Message-Routing-Schlüssels werden hier Informationen aus dem Header der Nachricht fürs Routing verwendet. \n",
    "\n",
    "Anschliessend können die Queues über den passenden Message-Routing-Schlüssel wieder abgerufen werden. Wird vom Nutzer keine Exchange definiert, wird standardmässig eine immer vorhandene Standard-Exchange `\"\"` verwendet.\n",
    "\n",
    "#### Kafka vs RabbitMQ\n",
    "Da RabbitMQ mit Queues arbeitet, werden Nachrichten, nachdem sie konsumiert wurden und eine Bestätigung zum Konsum gesendet wurde, auch tatsächlich gelöscht. Kafka hingegen kann auch als Queue genutzt werden, die dahinterliegende Speicherarchitektur ist jedoch deutlich flexibler und die Lebensdauer von Daten in Kafka wird durch eine Policy festgelegt. Während Kafka mit dem Zookeeper einen grossen Teil der Speicherverwaltung selbst übernimmt, kann bei RabbitMQ das exakte Datenrouting in der Applikation festgelegt werden, als auch Prioritäten im Datenfluss definiert werden.\n",
    "\n",
    "\n",
    "\n",
    "#### Weitere Kommunikationsarten: \n",
    "*System-to-system*: Hierbei handelt es sich um einen traditionellen Ansatz, in dem kein weiterer Message-Broker dazwischen fungiert. Zwar bietet diese Methode für kleine Systeme mit nur sehr wenigen Akteuren an. Sie ist jedoch erstens relativ langsam, da der Sender nicht mehr Daten produzieren sollte als Empfänger verarbeiten kann, da sonst Datenverlust droht. Und zweitens ist diese Variante nur schlecht skalierbar, da für jeden weiteren Akteur im Netz eigene Schnittstellen programmiert werden müssen, was schnell exponentiell Skaliert.\n",
    "\n",
    "#### Praktikabilität des Kommunikationspattern \n",
    "Ich bin der Meinung, dass das gewöhnliche pup-sub Kommunikationspattern mit RabbitMQ nur teilweise geeignet ist, da die Ratings nach dem Konsum gelöscht werden und vom Webshop ein Interesse bestehen sollte, Produktbewertungen Persistent aufzubewahren. In diesem Falle wäre also die Verwendung von Kafka als Message-Broker definitiv sinnvoller. "
   ]
  },
  {
   "cell_type": "markdown",
   "id": "36fa3711-89d9-4533-b8fb-90044286516b",
   "metadata": {},
   "source": [
    "## Teil 3\n"
   ]
  },
  {
   "cell_type": "code",
   "execution_count": 1,
   "id": "8299ed8b-2fc2-42b7-a421-1678d3bc0716",
   "metadata": {},
   "outputs": [],
   "source": [
    "import numpy as np\n",
    "import snakeviz\n",
    "from IPython.utils import io\n",
    "from memory_profiler import profile\n",
    "import time\n",
    "import shutil\n",
    "import os\n",
    "\n",
    "import Producer_1\n",
    "import Producer_2\n",
    "import Consumer_1_and_Datasink\n",
    "import Consumer_2_and_Datasink"
   ]
  },
  {
   "cell_type": "markdown",
   "id": "839b0a9a-e128-41c1-9112-4b3b6475b761",
   "metadata": {},
   "source": [
    "### Zeitmessung Producer\n",
    "\n",
    "Für die Zeitmessung der Producer wird die künstliche Wartezeit mittels `time.sleep()` zwischen dem Senden einzelner Bewertungen auf ein Minimum reduziert. Die Zeitmessung erfolgt mit der IPython Magic Funktion. Für das"
   ]
  },
  {
   "cell_type": "markdown",
   "id": "4092c946-d95c-4b62-b427-b7c5492646bd",
   "metadata": {},
   "source": [
    "#### Producer 1"
   ]
  },
  {
   "cell_type": "code",
   "execution_count": 3,
   "id": "c655a8a0-392d-4914-b043-f677462bccb2",
   "metadata": {},
   "outputs": [
    {
     "name": "stdout",
     "output_type": "stream",
     "text": [
      "15.8 ms ± 300 µs per loop (mean ± std. dev. of 7 runs, 100 loops each)\n"
     ]
    }
   ],
   "source": [
    "%%timeit\n",
    "with io.capture_output() as captured:\n",
    "    Producer_1.run(\"rabbitmq\", 10, hz=10e9)"
   ]
  },
  {
   "cell_type": "code",
   "execution_count": 4,
   "id": "41439759-a6bd-45cb-90da-4157d25c7c21",
   "metadata": {},
   "outputs": [
    {
     "name": "stdout",
     "output_type": "stream",
     "text": [
      "83.3 ms ± 2.63 ms per loop (mean ± std. dev. of 7 runs, 10 loops each)\n"
     ]
    }
   ],
   "source": [
    "%%timeit\n",
    "with io.capture_output() as captured:\n",
    "    Producer_1.run(\"rabbitmq\", 100, hz=10e9)"
   ]
  },
  {
   "cell_type": "markdown",
   "id": "5e65992b-cda3-4c3b-b048-6173bbcd9f0a",
   "metadata": {},
   "source": [
    "Das Ausführen des Producer 1 inklusive dem senden von 10 Ratings benötigt im Schnitt zwischen 55 und 56 Millisekunden.\n",
    "\n",
    "Das Ausführen des Producer 1 inklusive dem senden von 100 Ratings benötigt im Schnitt rund 334 Millisekunden.\n",
    "\n",
    "Unter der Annahme, dass wir einen Fixen Zeitaufwand für das Initialisieren des Producers haben und einen Skallierbaren mit der Anzahl an zu sendenen Nachrichten, dann ergibt sich der folgende Dreisatz:"
   ]
  },
  {
   "cell_type": "code",
   "execution_count": 5,
   "id": "7d16756f-f2fe-4029-a911-555d49ac1992",
   "metadata": {},
   "outputs": [
    {
     "name": "stdout",
     "output_type": "stream",
     "text": [
      "Mit diesem Resultat ist zu erwarten, dass der Producer 1 für die Initialisierung um die 8.444 Millisekunden benötigt.\n",
      "Der Code zum Senden einer Bewertung skaliert entsprechend um die 0.756 Millisekunden pro zu sendende Nachricht.\n"
     ]
    }
   ],
   "source": [
    "x = np.array([[1, 10], [1, 100]])\n",
    "y = np.array([16, 84])\n",
    "i, s = np.linalg.solve(x, y)\n",
    "print(f\"Mit diesem Resultat ist zu erwarten, dass der Producer 1 für die Initialisierung um die {round(i, 3)} Millisekunden benötigt.\")\n",
    "print(f\"Der Code zum Senden einer Bewertung skaliert entsprechend um die {round(s, 3)} Millisekunden pro zu sendende Nachricht.\")"
   ]
  },
  {
   "cell_type": "markdown",
   "id": "c2ed0a27-bf75-46a4-9d7a-4ce3233de714",
   "metadata": {},
   "source": [
    "#### Producer 2\n",
    "\n",
    "Für den Producer 2 Test muss zuerst eine ausreichende Anzahl an CSV's im  *src/datasink* vorhanden sein. Deshalb wird in einem nächsten Schritt ein zufälliges CSV aus dem *src/datasink/archive* Ordner kopiert und vervielfacht abgespeichert."
   ]
  },
  {
   "cell_type": "code",
   "execution_count": 6,
   "id": "1484e9f3-b0e2-4bf0-bb47-65001af384b4",
   "metadata": {},
   "outputs": [],
   "source": [
    "def create_test_files(path, n_copies):\n",
    "    '''Creates a defined number of testfiles in a specified path'''\n",
    "    for file in os.listdir(\"src/datasink/archive/\"):\n",
    "        if str(file).endswith(\".csv\"):\n",
    "            for i in range(n_copies):\n",
    "                shutil.copy(path + file, path + file.replace(\".csv\", \"\") + \"_test\" + str(i) + \".csv\")\n",
    "            return\n",
    "        \n",
    "def retrieve_from_archive():\n",
    "    '''Copies retrieves files from the datasink archive folder'''\n",
    "    for file in os.listdir(\"src/datasink/archive/\"):\n",
    "        if str(file).endswith(\".csv\"):\n",
    "            if \"_test\" in file:\n",
    "                os.replace(\"src/datasink/archive/\" + str(file), \"src/datasink/\" + str(file))\n",
    "        \n",
    "def destroy_test_files(path):\n",
    "    '''Destroys all testfiles in a specified path'''\n",
    "    for file in os.listdir(path):\n",
    "        if str(file).endswith(\".csv\"):\n",
    "            if \"_test\" in file:\n",
    "                os.remove(path + file)\n"
   ]
  },
  {
   "cell_type": "code",
   "execution_count": 7,
   "id": "ef875843-fff6-42d8-aaa9-8a4afb7c2bbc",
   "metadata": {},
   "outputs": [],
   "source": [
    "# create test files\n",
    "path =  \"src/datasink/archive/\"\n",
    "n_copies = 50\n",
    "create_test_files(path, n_copies)"
   ]
  },
  {
   "cell_type": "code",
   "execution_count": 8,
   "id": "6e11d6b5-1e9e-41ed-a794-ddb3718ffd8c",
   "metadata": {},
   "outputs": [],
   "source": [
    "# retrieve test files from archive for producer 2\n",
    "retrieve_from_archive()"
   ]
  },
  {
   "cell_type": "code",
   "execution_count": 9,
   "id": "ab8a9ef7-416e-432c-9550-f5f2a54ea7e5",
   "metadata": {},
   "outputs": [
    {
     "name": "stdout",
     "output_type": "stream",
     "text": [
      "273 ms ± 54.3 ms per loop (mean ± std. dev. of 5 runs, 1 loop each)\n"
     ]
    }
   ],
   "source": [
    "%%timeit -r 5 -n 1\n",
    "with io.capture_output() as captured:\n",
    "    Producer_2.run(\"rabbitmq\", 5, hz=10e9)"
   ]
  },
  {
   "cell_type": "code",
   "execution_count": 10,
   "id": "15237d53-3dc7-4e54-94f8-edbec10e74ae",
   "metadata": {},
   "outputs": [],
   "source": [
    "# retrieve test files from archive for producer 2\n",
    "retrieve_from_archive()"
   ]
  },
  {
   "cell_type": "code",
   "execution_count": 11,
   "id": "dbeaaaf7-cb16-4ee1-84c7-39dbbc29097f",
   "metadata": {},
   "outputs": [
    {
     "name": "stdout",
     "output_type": "stream",
     "text": [
      "The slowest run took 4.77 times longer than the fastest. This could mean that an intermediate result is being cached.\n",
      "354 ms ± 180 ms per loop (mean ± std. dev. of 5 runs, 1 loop each)\n"
     ]
    }
   ],
   "source": [
    "%%timeit -r 5 -n 1\n",
    "with io.capture_output() as captured:\n",
    "    Producer_2.run(\"rabbitmq\", 10, hz=10e9)"
   ]
  },
  {
   "cell_type": "markdown",
   "id": "151c9f10-4d5e-497d-a497-3cacd862bcfc",
   "metadata": {},
   "source": [
    "Das Ausführen des Producer 2 inklusive dem senden von 5 top-5-rated-products Listen benötigt im Schnitt um die 435 Millisekunden.\n",
    "\n",
    "Das Ausführen des Producer 2 inklusive dem senden von 10 top-5-rated-products Listen benötigt im Schnitt um die 547 Millisekunden."
   ]
  },
  {
   "cell_type": "code",
   "execution_count": 12,
   "id": "a72e7bd6-5284-4987-810c-851ecea6587e",
   "metadata": {},
   "outputs": [
    {
     "name": "stdout",
     "output_type": "stream",
     "text": [
      "Mit diesem Resultat ist zu erwarten, dass der Producer 1 für die Initialisierung um die 192.0 Millisekunden benötigt.\n",
      "Der Code zum Senden einer Bewertung skaliert entsprechend um die 16.2 Millisekunden pro zu sendende Nachricht.\n"
     ]
    }
   ],
   "source": [
    "x = np.array([[1, 5], [1, 10]])\n",
    "y = np.array([273, 354])\n",
    "i, s = np.linalg.solve(x, y)\n",
    "print(f\"Mit diesem Resultat ist zu erwarten, dass der Producer 1 für die Initialisierung um die {round(i, 3)} Millisekunden benötigt.\")\n",
    "print(f\"Der Code zum Senden einer Bewertung skaliert entsprechend um die {round(s, 3)} Millisekunden pro zu sendende Nachricht.\")"
   ]
  },
  {
   "cell_type": "code",
   "execution_count": 13,
   "id": "f34df466-ae00-4e52-b5e7-845b5bb6508f",
   "metadata": {},
   "outputs": [],
   "source": [
    "path =  \"src/datasink/archive/\"\n",
    "destroy_test_files(path)"
   ]
  },
  {
   "cell_type": "markdown",
   "id": "6b569e7b-aedd-4b2d-bc02-a923843d212a",
   "metadata": {},
   "source": [
    "### Consumer Profiling \n",
    "Für das Profiling der Consumer wurde primär die `snakeviz` Library verwendet."
   ]
  },
  {
   "cell_type": "code",
   "execution_count": 14,
   "id": "489d5625-612a-4cee-8c87-d39cb3be75fb",
   "metadata": {},
   "outputs": [],
   "source": [
    "%load_ext snakeviz"
   ]
  },
  {
   "cell_type": "code",
   "execution_count": 15,
   "id": "8f01fec4-d485-49a8-8ff8-4fd7deb22d4a",
   "metadata": {},
   "outputs": [],
   "source": [
    "# %snakeviz Consumer_1_and_Datasink.run(framework=\"rabbitmq\", n=330)"
   ]
  },
  {
   "cell_type": "code",
   "execution_count": 16,
   "id": "45688491-c9da-47aa-b1f3-78115c73821e",
   "metadata": {},
   "outputs": [],
   "source": [
    "# %snakeviz Consumer_2_and_Datasink.run(framework=\"rabbitmq\", n=10)"
   ]
  },
  {
   "cell_type": "markdown",
   "id": "98054744-a588-4555-9d51-4b7ebb473f53",
   "metadata": {},
   "source": [
    "Die drei nachfolgenden Screenshots zeigt das Profiling des Consumer 1 für das Konsumieren von 330 Nachrichten. Dieser konsumiert die live_bewertungen von RabbitMQ und erstellt jede Minute ein Dataframe mit den Top bewerteten Produkten. \n",
    "\n",
    "Das Errechnen und Abspeichern der Top Bewertungen ist hier jedoch Profiling beinhaltet. Zwar benötigt die Funktion zum das Errechnen und Abspeichern der Top-5 Bewertungen im Datasink Erwartungsgemäss am meisten Zeit, da diese Funktion jedoch nur einmal pro Minute benötigt wird, sollte dies bei meinem aktuellen Datenfluss keinen alzu grossen Einfluss haben.\n",
    "\n",
    "Beim Betrachten des Profilings sehen wir, dass der grösste Teil der Ausführzeit in der in der `Consumer.consume` methode verbracht wird. Diese Beinhaltet drei Methoden `start_consuming`, `basic_consume` und `queue_declare`. Dabei wird con der ausführreihenfolge zuerst mit `queue_declare` eine Queue auf RabbitMQ erstellt. Anschliessend wird mit `basic_consume` Verbindung zur Queue hergestellt. Zuletzt werden mit `start_consuming` über pika's blocking_connection die Nachrichten von RabbitMQ konsummiert. Dieser Schritt dauert am längsten, da der Thread in dieser Methode bleibt bis ein abbruchkriterium erfüllt ist. Innerhalb der Blockingconnection wird zudem die `callback` Methode zm Verarbeiten der Daten und der Datasink lokalisiert."
   ]
  },
  {
   "cell_type": "markdown",
   "id": "e45e9ea5-d182-4c23-9eb3-94f425487a56",
   "metadata": {},
   "source": [
    "### Consumer 1\n",
    "Die drei nachfolgenden Screenshots zeigt das Profiling des Consumer 1 für das Konsumieren von 330 Nachrichten. Dieser konsumiert die live Bewertungen von RabbitMQ und erstellt jede Minute ein Dataframe mit den bestbewerteten Produkten. \n",
    "\n",
    "Das Errechnen und Abspeichern der top Bewertungen ist hier jedoch Profiling beinhaltet. Zwar benötigt die Funktion zum Errechnen und Abspeichern der top Bewertungen im Datasink erwartungsgemäss am meisten Zeit, da diese Funktion jedoch nur einmal pro Minute benötigt wird, sollte dies bei meinem aktuellen Datenfluss keinen allzu grossen Einfluss haben.\n",
    "\n",
    "Beim Betrachten des Profilings sehen wir, dass der grösste Teil der Ausführzeit in der `Consumer.consume` Methode verbracht wird. Diese beinhaltet drei Methoden `start_consuming`, `basic_consume` und `queue_declare`. Dabei wird von der Ordnung der Ausführung zuerst mit `queue_declare` eine Queue auf RabbitMQ erstellt. Anschliessend wird mit `basic_consume` Verbindung zur Queue hergestellt. Zuletzt werden mit `start_consuming` über pika's blocking_connection die Nachrichten von RabbitMQ konsumiert. Dieser Schritt dauert am längsten, da der Thread in dieser Methode bleibt, bis ein Abbruchkriterium erfüllt ist. Innerhalb der Blockingconnection wird zudem die `callback` Methode zum Verarbeiten der Daten und der Datasink lokalisiert.\n",
    "\n",
    "![Consumer_1.png](Consumer_1.png)\n",
    "\n",
    "### Consumer 1 - `basic_consume()`\n",
    "\n",
    "![Consumer_1_basic_consume.png](Consumer_1_basic_consume.png)\n",
    "\n",
    "### Consumer 1 - `queue_declare()`\n",
    "\n",
    "![Consumer_1_queue_declare.png](Consumer_1_queue_declare.png)\n",
    "\n",
    "### Consumer 2\n",
    "\n",
    "Beim Profiling des Consumer 2 sehen wir, beim Konsumieren von 10 Top-5 Bewertungstabellen, dass ein noch grösserer Teil der Laufzeit als beim Consumer 1 für das Konsumieren der Nachrichten mit der `start_consuming` Methode verbracht wird. Das macht Sinn, da es sich diese Methode in einem Loop befindet, bis entweder eine definierte Anzahl Nachrichten konsumiert wurde oder alle Nachrichten konsumiert wurden. `start_consuming` Methode sehen wir, dass sich die Laufzeit grösstenteils und fast zu gleichen Teilen auf die Funktionen `sink_data` Methode aus dem Datasink und der `close` Methode zum Schliessen der Verbindung am Ende des Konsums aufteilen. Die `sink_data` Methode ruft die `__plot_ranking` Methode auf, welche jeweils immer einen Plot mit den Top-5 Bewertungen generiert. Diese Visualisierung benötigt einen kumulierten Zeitaufwand von 282 Millisekunden. Die 'close' Methode zum Beenden der Verbindung zu RabbitMQ benötigt fast gleich viel Zeit mit 244 Millisekunden. Wieso dieser Schritt so lange dauert, ist mir nicht genau klar.\n",
    "\n",
    "![Consumer_2.png](Consumer_2.png)"
   ]
  },
  {
   "cell_type": "markdown",
   "id": "87657308-cd9a-4853-a119-880df7d4a6ba",
   "metadata": {},
   "source": [
    "#### Memory Usage\n",
    "\n",
    "Nachfolgend wird mit `memory_profiler` die Auslastung des Arbeitsspeichers beim Ausführen der Methoden untersucht."
   ]
  },
  {
   "cell_type": "code",
   "execution_count": 17,
   "id": "81522038-2280-42a8-8147-33fb887dea29",
   "metadata": {},
   "outputs": [
    {
     "name": "stdout",
     "output_type": "stream",
     "text": [
      "The memory_profiler extension is already loaded. To reload it, use:\n",
      "  %reload_ext memory_profiler\n"
     ]
    }
   ],
   "source": [
    "%load_ext memory_profiler"
   ]
  },
  {
   "cell_type": "code",
   "execution_count": 18,
   "id": "8f451b94-26bf-45c6-9eac-885785b77989",
   "metadata": {},
   "outputs": [
    {
     "name": "stdout",
     "output_type": "stream",
     "text": [
      "Setup rabbitmq connection\n",
      "0 ratings sent.\n",
      "\n"
     ]
    },
    {
     "data": {
      "text/plain": [
       "Filename: /home/jovyan/Producer_1.py\n",
       "\n",
       "Line #    Mem usage    Increment  Occurrences   Line Contents\n",
       "=============================================================\n",
       "     7    151.1 MiB    151.1 MiB           1   def run(framework='rabbitmq', n=None, hz=5):\n",
       "     8                                             \n",
       "     9    151.1 MiB      0.0 MiB           1       topic = \"live_ratings\"\n",
       "    10    151.1 MiB      0.0 MiB           1       file = \"src/json/Toys_and_Games_5-short.json\"\n",
       "    11                                             \n",
       "    12    151.1 MiB      0.0 MiB           1       if framework == 'kafka':\n",
       "    13                                                 producer_1 = Producer(framework='kafka', host_name=\"broker1\", port=9093)\n",
       "    14                                             \n",
       "    15    151.1 MiB      0.0 MiB           1       if framework == 'rabbitmq':\n",
       "    16    151.1 MiB      0.1 MiB           1           producer_1 = Producer(framework='rabbitmq', host_name=\"rabbitmq1\", port=5672)\n",
       "    17                                             \n",
       "    18    151.1 MiB      0.0 MiB           2       with open(file) as f:\n",
       "    19    151.1 MiB      0.0 MiB           1           for i, line in enumerate(f):\n",
       "    20    151.1 MiB      0.0 MiB           1               message = json.loads(line)\n",
       "    21                                         \n",
       "    22    151.1 MiB      0.0 MiB           1               rating = Rating()\n",
       "    23    151.1 MiB      0.0 MiB           1               rating.reviewerID = str(message[\"reviewerID\"])\n",
       "    24    151.1 MiB      0.0 MiB           1               rating.asin = str(message[\"asin\"])\n",
       "    25    151.1 MiB      0.0 MiB           1               rating.overall = int(message[\"overall\"])\n",
       "    26    151.1 MiB      0.0 MiB           1               rating.reviewText = str(message[\"reviewText\"])\n",
       "    27                                         \n",
       "    28    151.1 MiB      0.0 MiB           1               producer_1.produce(topic, message=rating)\n",
       "    29    151.1 MiB      0.0 MiB           1               if i % (hz*10) == 0:\n",
       "    30    151.1 MiB      0.0 MiB           1                   print(f\"{i} ratings sent.\")\n",
       "    31    151.1 MiB      0.0 MiB           1               time.sleep(1/hz)\n",
       "    32    151.1 MiB      0.0 MiB           1               if n:\n",
       "    33    151.1 MiB      0.0 MiB           1                   if i+1 >= n:\n",
       "    34    151.1 MiB      0.0 MiB           1                       return"
      ]
     },
     "metadata": {},
     "output_type": "display_data"
    }
   ],
   "source": [
    "%%mprun -f Producer_1.run\n",
    "Producer_1.run('rabbitmq', 1)"
   ]
  },
  {
   "cell_type": "code",
   "execution_count": 19,
   "id": "9f72fc13-0a06-4953-9aca-d67419e319c8",
   "metadata": {},
   "outputs": [
    {
     "name": "stdout",
     "output_type": "stream",
     "text": [
      "Setup rabbitmq connection\n",
      "File: src/datasink//2022_10_26_16_04_37.csv published\n",
      "\n"
     ]
    },
    {
     "data": {
      "text/plain": [
       "Filename: /home/jovyan/Producer_2.py\n",
       "\n",
       "Line #    Mem usage    Increment  Occurrences   Line Contents\n",
       "=============================================================\n",
       "    23    151.1 MiB    151.1 MiB           1   def run(framework='rabbitmq', n=None, hz=1/10):\n",
       "    24                                             \n",
       "    25    151.1 MiB      0.0 MiB           1       topic = \"top_ratings\"\n",
       "    26    151.1 MiB      0.0 MiB           1       path = \"src/datasink/\"\n",
       "    27                                             \n",
       "    28    151.1 MiB      0.0 MiB           1       if not os.path.exists(path+\"archive/\"):\n",
       "    29                                                 os.makedirs(path+\"archive/\")\n",
       "    30                                             \n",
       "    31    151.1 MiB      0.0 MiB           1       if framework == 'kafka':\n",
       "    32                                                 producer_2 = Producer(framework='kafka', host_name=\"broker1\", port=9093)\n",
       "    33                                             \n",
       "    34    151.1 MiB      0.0 MiB           1       if framework == 'rabbitmq':\n",
       "    35    151.1 MiB      0.0 MiB           1           producer_2 = Producer(framework='rabbitmq', host_name=\"rabbitmq1\", port=5672)\n",
       "    36                                         \n",
       "    37    151.1 MiB      0.0 MiB           1       j = 0\n",
       "    38    151.1 MiB      0.0 MiB           1       if n is None:\n",
       "    39                                                 n = -1\n",
       "    40                                             \n",
       "    41    151.5 MiB      0.0 MiB           2       while j != n:\n",
       "    42    151.1 MiB      0.0 MiB           1           j += 1\n",
       "    43    151.1 MiB      0.0 MiB           1           file = get_oldest_file(path)\n",
       "    44    151.1 MiB      0.0 MiB           1           if file is not None:\n",
       "    45    151.5 MiB      0.3 MiB           1               df = pd.read_csv(file)\n",
       "    46    151.5 MiB      0.0 MiB           1               df = df.head(5)\n",
       "    47    151.5 MiB      0.0 MiB           1               avg_ratings = AverageRatings()\n",
       "    48    151.5 MiB      0.0 MiB           6               for i in range(len(df)):\n",
       "    49    151.5 MiB      0.0 MiB           5                   single_avg = avg_ratings.average_rating.add()\n",
       "    50    151.5 MiB      0.0 MiB           5                   single_avg.asin = str(df[\"asin\"][i])\n",
       "    51    151.5 MiB      0.0 MiB           5                   single_avg.mean_overall = float(df[\"mean_overall\"][i])\n",
       "    52    151.5 MiB      0.0 MiB           5                   single_avg.count = int(df[\"count\"][i])\n",
       "    53                                         \n",
       "    54    151.5 MiB      0.0 MiB           1               producer_2.produce(topic, message=avg_ratings)\n",
       "    55    151.5 MiB      0.0 MiB           1               print(f\"File: {file} published\")\n",
       "    56    151.5 MiB      0.0 MiB           1               os.replace(file, get_archive_string(file))\n",
       "    57    151.5 MiB      0.0 MiB           1           time.sleep(1/hz)"
      ]
     },
     "metadata": {},
     "output_type": "display_data"
    }
   ],
   "source": [
    "%%mprun -f Producer_2.run \n",
    "Producer_2.run('rabbitmq', 1)"
   ]
  },
  {
   "cell_type": "code",
   "execution_count": 20,
   "id": "d2972905-c827-4333-8007-63cc1e21bb56",
   "metadata": {},
   "outputs": [
    {
     "name": "stdout",
     "output_type": "stream",
     "text": [
      "\n"
     ]
    },
    {
     "data": {
      "text/plain": [
       "Filename: /home/jovyan/Consumer_1_and_Datasink.py\n",
       "\n",
       "Line #    Mem usage    Increment  Occurrences   Line Contents\n",
       "=============================================================\n",
       "     7    151.5 MiB    151.5 MiB           1   def run(framework='rabbitmq', n=1):\n",
       "     8    151.5 MiB      0.0 MiB           1       topic = \"live_ratings\"\n",
       "     9                                             \n",
       "    10    151.5 MiB      0.0 MiB           1       datasink_1 = DataSink_1(path=\"./src/datasink/\")\n",
       "    11                                             \n",
       "    12    151.5 MiB      0.0 MiB           1       if framework == 'kafka':\n",
       "    13                                                 consumer_1 = Consumer(datasink_1, framework='kafka', host_name=\"broker1\", port=9093)\n",
       "    14                                             \n",
       "    15    151.5 MiB      0.0 MiB           1       if framework == 'rabbitmq':\n",
       "    16    151.5 MiB      0.0 MiB           1           consumer_1 = Consumer(datasink_1, framework='rabbitmq', host_name=\"rabbitmq1\", port=5672)\n",
       "    17                                         \n",
       "    18    152.7 MiB      1.3 MiB           1       consumer_1.consume(topic, Rating, n=n)"
      ]
     },
     "metadata": {},
     "output_type": "display_data"
    }
   ],
   "source": [
    "%%mprun -f Consumer_1_and_Datasink.run\n",
    "Consumer_1_and_Datasink.run('rabbitmq', 1)"
   ]
  },
  {
   "cell_type": "code",
   "execution_count": 21,
   "id": "8e767afa-c5c4-4b18-89fc-10e32c0b3916",
   "metadata": {},
   "outputs": [
    {
     "data": {
      "image/png": "[encoded data removed]",
      "text/plain": [
       "<Figure size 1000x500 with 1 Axes>"
      ]
     },
     "metadata": {},
     "output_type": "display_data"
    },
    {
     "name": "stdout",
     "output_type": "stream",
     "text": [
      "\n"
     ]
    },
    {
     "data": {
      "text/plain": [
       "Filename: /home/jovyan/Consumer_2_and_Datasink.py\n",
       "\n",
       "Line #    Mem usage    Increment  Occurrences   Line Contents\n",
       "=============================================================\n",
       "     7    152.7 MiB    152.7 MiB           1   def run(framework=\"rabbitmq\", n=1):\n",
       "     8    152.7 MiB      0.0 MiB           1       topic = \"top_ratings\"\n",
       "     9                                             \n",
       "    10    152.7 MiB      0.0 MiB           1       datasink_2 = DataSink_2(path=\"./src/datasink/\")\n",
       "    11                                             \n",
       "    12    152.7 MiB      0.0 MiB           1       if framework == 'kafka':\n",
       "    13                                                 consumer_2 = Consumer(datasink_2, framework='kafka', host_name=\"broker1\", port=9093)\n",
       "    14                                             \n",
       "    15    152.7 MiB      0.0 MiB           1       if framework == 'rabbitmq':\n",
       "    16    152.7 MiB      0.0 MiB           1           consumer_2 = Consumer(datasink_2, framework='rabbitmq', host_name=\"rabbitmq1\", port=5672)\n",
       "    17                                         \n",
       "    18    167.2 MiB     14.4 MiB           1       consumer_2.consume(topic, AverageRatings, n=n)"
      ]
     },
     "metadata": {},
     "output_type": "display_data"
    }
   ],
   "source": [
    "%%mprun -f Consumer_2_and_Datasink.run\n",
    "Consumer_2_and_Datasink.run('rabbitmq', 1)"
   ]
  },
  {
   "cell_type": "code",
   "execution_count": null,
   "id": "21b4bc0d-bad2-4f70-b437-f8dbe05b0b0a",
   "metadata": {},
   "outputs": [],
   "source": []
  },
  {
   "cell_type": "markdown",
   "id": "7527e3d5-2921-4beb-bb45-1d71de4cf5e7",
   "metadata": {},
   "source": [
    "### 3. Bonusaufgabe\n",
    "\n",
    "Der Onlineshop hat seit kurzer Zeit vermehrt Probleme mit Fake-Bewertungen. Aus diesem Grund wurde eine weitere Funktion programmiert, welche im Producer 1 die Bewertungen auf ihre Echtheit überprüft. Unterhalb wird diese dummy Funktion `check_data()` implementiert, welche pro Bewertung einmal ausgeführt werden soll."
   ]
  },
  {
   "cell_type": "code",
   "execution_count": 22,
   "id": "707ea5bd-54c5-4b60-b67e-d336705bf786",
   "metadata": {},
   "outputs": [],
   "source": [
    "def check_data():\n",
    "    '''\n",
    "    Checking data needs some time :)\n",
    "    This is a placeholder function that creates a bottleneck\n",
    "    '''\n",
    "    sum([i for i in range(10**7)])"
   ]
  },
  {
   "cell_type": "code",
   "execution_count": 23,
   "id": "ec7d5dd9-a095-4e3c-b477-cfd07252d3b4",
   "metadata": {},
   "outputs": [
    {
     "name": "stdout",
     "output_type": "stream",
     "text": [
      "535 ms ± 14.8 ms per loop (mean ± std. dev. of 7 runs, 1 loop each)\n"
     ]
    }
   ],
   "source": [
    "%%timeit\n",
    "check_data()"
   ]
  },
  {
   "cell_type": "markdown",
   "id": "eec3f35c-90e8-4a1c-9e6c-46ce0d224269",
   "metadata": {},
   "source": [
    "Das Ausführen dieser Methode dauert pro Bewertung ~ 0.5 Sekunden. Da im Schnitt jedoch ca. fünf Bewertungen pro Sekunde generiert werden, führt das zu einem Bottleneck im Producer."
   ]
  },
  {
   "cell_type": "markdown",
   "id": "f2c8fd41-9b39-42b6-a49e-90822c35bf10",
   "metadata": {},
   "source": [
    "#### Single Thread"
   ]
  },
  {
   "cell_type": "code",
   "execution_count": 24,
   "id": "2820813c-3fa9-4068-92ac-c5f0490543ed",
   "metadata": {},
   "outputs": [
    {
     "name": "stdout",
     "output_type": "stream",
     "text": [
      "Setup rabbitmq connection\n"
     ]
    }
   ],
   "source": [
    "import json\n",
    "import time\n",
    "from helper_file import Producer\n",
    "from message_struc_pb2 import Rating\n",
    "   \n",
    "topic = \"live_ratings_bn\"\n",
    "file = \"src/json/Toys_and_Games_5.json\"\n",
    "hz = 5\n",
    "send_n_ratings = 30\n",
    "producer_1 = Producer(framework='rabbitmq', host_name=\"rabbitmq1\", port=5672)"
   ]
  },
  {
   "cell_type": "code",
   "execution_count": 25,
   "id": "914b55d9-9995-438d-ba59-1820020c2ff9",
   "metadata": {},
   "outputs": [
    {
     "name": "stdout",
     "output_type": "stream",
     "text": [
      "0 ratings sent.\n",
      "Finished sending 30 Ratings \n",
      "CPU times: user 11 s, sys: 4.86 s, total: 15.8 s\n",
      "Wall time: 21.9 s\n"
     ]
    }
   ],
   "source": [
    "%%time\n",
    "with open(file) as f:\n",
    "    for i, line in enumerate(f):\n",
    "        message = json.loads(line)\n",
    "        check_data()                                        # bottleneck\n",
    "        rating = Rating()\n",
    "        rating.reviewerID = str(message[\"reviewerID\"])\n",
    "        rating.asin = str(message[\"asin\"])\n",
    "        rating.overall = int(message[\"overall\"])\n",
    "        rating.reviewText = str(message[\"reviewText\"])\n",
    "        \n",
    "        producer_1.produce(topic, message=rating)\n",
    "        if i % (hz*10) == 0:\n",
    "            print(f\"{i} ratings sent.\")\n",
    "        time.sleep(1/hz)\n",
    "        \n",
    "        if i+1 == send_n_ratings:\n",
    "            print(f\"Finished sending {i+1} Ratings \")\n",
    "            break"
   ]
  },
  {
   "cell_type": "markdown",
   "id": "40e43e75-f53e-4e99-947d-efa9b608639c",
   "metadata": {},
   "source": [
    "Mit der ursprünglichen Implementation des Producer 1 dauert das Publizieren von 30 Bewertungen nun über 21 Sekunden. Unser Producer kann den kontinuierlichen Zustrom an neuen Bewertungen also nicht mehr adäquat verarbeiten. Nachfolgend wird deshalb der Producer Überarbeitet, sodass einzelne Arbeitsschritte in mehreren Threads ausgeführt werden können."
   ]
  },
  {
   "cell_type": "markdown",
   "id": "2ac632e6-39a8-4644-b467-0084fa0c6ec3",
   "metadata": {},
   "source": [
    "#### Multiple Threads\n",
    "\n",
    "Unter der verwendung von Pythons `threading` Library ist es nun möglich, die Überprüfung des Codes mit mehreren Threads auszuführen. Der ursprüngliche Code des Producers wurde in die `MultiprocessProducer` Klasse integriert und so angepasst, dass der Producer nun aus den folgenden drei Methoden besteht:\n",
    "- `get_ratings`: Lädt die Bewertungen aus dem Datensatz\n",
    "- `check_ratings`: Überprüft die Bewertungen mit unserer Methode. \n",
    "- `publish_ratings`: Publiziert die überprüften Bewertungen zum Message Broker.\n",
    "\n",
    "Die `check_ratings` Methode beinhaltet unser Bottleneck und wird mit mehreren Threads ausgeführt."
   ]
  },
  {
   "cell_type": "code",
   "execution_count": 26,
   "id": "e3c4bdd3-6b51-4408-8557-b9c42592e479",
   "metadata": {},
   "outputs": [
    {
     "name": "stdout",
     "output_type": "stream",
     "text": [
      "Setup rabbitmq connection\n"
     ]
    }
   ],
   "source": [
    "from queue import Queue, Empty\n",
    "from threading import Lock, Thread, get_ident\n",
    "from multithread_producer import MultithreadProducer\n",
    "            \n",
    "    \n",
    "topic = \"live_ratings_bn_mp\"\n",
    "file = \"src/json/Toys_and_Games_5.json\"\n",
    "hz = 5\n",
    "send_n_ratings = 30\n",
    "n_threads = 6\n",
    "producer_1 = Producer(framework='rabbitmq', host_name=\"rabbitmq1\", port=5672)\n",
    "multithread_producer = MultithreadProducer(producer_1, file, hz, send_n_ratings)"
   ]
  },
  {
   "cell_type": "code",
   "execution_count": 27,
   "id": "445fd775-8e17-4d84-975f-9d0801a1978c",
   "metadata": {},
   "outputs": [
    {
     "name": "stdout",
     "output_type": "stream",
     "text": [
      "get_ratings: Running on thread 140111877822016\n",
      "check_ratings: Running on thread 140111863510592\n",
      "check_ratings: Running on thread 140111855117888\n",
      "check_ratings: Running on thread 140111846725184\n",
      "check_ratings: Running on thread 140111496869440\n",
      "check_ratings: Running on thread 140111488476736\n",
      "check_ratings: Running on thread 140111480084032\n",
      "publish_ratings: Running on thread 140111471691328\n",
      "0 ratings sent.\n",
      "5 ratings sent.\n",
      "10 ratings sent.\n",
      "15 ratings sent.\n",
      "20 ratings sent.\n",
      "CPU times: user 11.5 s, sys: 2.9 s, total: 14.4 s\n",
      "Wall time: 15.2 s\n"
     ]
    }
   ],
   "source": [
    "%%time\n",
    "get_ratings = Thread(target=multithread_producer.get_ratings)\n",
    "get_ratings.start()\n",
    "\n",
    "check_ratings = []\n",
    "for i in range(n_threads):\n",
    "    t = Thread(target=multithread_producer.check_ratings)\n",
    "    t.start()\n",
    "    check_ratings.append(t)\n",
    "       \n",
    "publish_ratings = Thread(target=multithread_producer.publish_ratings, args=(topic,))\n",
    "publish_ratings.start()\n",
    "\n",
    "# Properly close threads again\n",
    "get_ratings.join()\n",
    "for i in range(n_threads):\n",
    "    check_ratings[i].join()\n",
    "publish_ratings.join()"
   ]
  },
  {
   "cell_type": "markdown",
   "id": "065add81-0456-4806-b0cd-dd080e5a21d4",
   "metadata": {},
   "source": [
    "Wir sehen, dass unsere Methoden auf unterschiedlichen Threads ausgeführt wurden. Diese werden in Python jedoch nur Konkurrent ausgeführt und nicht parallel und laufen somit auf derselben CPU-Core. Die Laufzeit des Codes wird deshalb nur minimal schneller. In einem nächsten Schritt passen wir unsere Klasse so an, dass die Methoden nun mit Pythons `multiprocessing` Library ausgeführt werden können."
   ]
  },
  {
   "cell_type": "markdown",
   "id": "8bc4a5e7-7336-41f4-952d-0f1d8433e6cf",
   "metadata": {},
   "source": [
    "#### Multiple Processes\n",
    "\n",
    "Die Klasse zur Ausführung des Producers mittels Multithreading wurde nun in einer neuen MultiprocessProducer Klasse gespeichert. Unter der verwendung von `multiprocessing` in Python werden die einzelnen Prozesse nun tatsächlich auf unterschiedlichen CPU-Cores ausgeführt. Deshalb wird auch eine deutliche Reduktion der Laufzeit erwartet."
   ]
  },
  {
   "cell_type": "code",
   "execution_count": 28,
   "id": "29449f41-e211-408f-85fa-1b19adaadffb",
   "metadata": {},
   "outputs": [
    {
     "name": "stdout",
     "output_type": "stream",
     "text": [
      "Setup rabbitmq connection\n"
     ]
    }
   ],
   "source": [
    "from multiprocessing import Queue, Process\n",
    "from threading import get_ident\n",
    "from multiprocess_producer import MultiprocessProducer\n",
    "\n",
    "    \n",
    "topic = \"live_ratings_bn_mp\"\n",
    "file = \"src/json/Toys_and_Games_5.json\"\n",
    "hz = 5\n",
    "send_n_ratings = 30\n",
    "n_processes = 6\n",
    "producer_1 = Producer(framework='rabbitmq', host_name=\"rabbitmq1\", port=5672)\n",
    "multiprocess_producer = MultiprocessProducer(producer_1, file, hz, send_n_ratings)"
   ]
  },
  {
   "cell_type": "code",
   "execution_count": 29,
   "id": "8ee53480-cf27-4490-906a-3a99a196097e",
   "metadata": {},
   "outputs": [
    {
     "name": "stdout",
     "output_type": "stream",
     "text": [
      "get_ratings: Running on thread 140114374428480\n",
      "check_ratings: Running on thread 140114374428480\n",
      "check_ratings: Running on thread 140114374428480\n",
      "check_ratings: Running on thread 140114374428480\n",
      "check_ratings: Running on thread 140114374428480\n",
      "check_ratings: Running on thread 140114374428480\n",
      "check_ratings: Running on thread 140114374428480\n",
      "publish_ratings: Running on thread 140114374428480\n",
      "0 ratings sent.\n",
      "5 ratings sent.\n",
      "10 ratings sent.\n",
      "15 ratings sent.\n",
      "20 ratings sent.\n",
      "25 ratings sent.\n",
      "CPU times: user 66 ms, sys: 76.9 ms, total: 143 ms\n",
      "Wall time: 6.32 s\n"
     ]
    }
   ],
   "source": [
    "%%time\n",
    "get_ratings = Process(target=multiprocess_producer.get_ratings)\n",
    "get_ratings.start()\n",
    "\n",
    "check_ratings = []\n",
    "for i in range(n_processes):\n",
    "    p = Process(target=multiprocess_producer.check_ratings)\n",
    "    p.start()\n",
    "    check_ratings.append(p)\n",
    "       \n",
    "publish_ratings = Process(target=multiprocess_producer.publish_ratings, args=(topic,))\n",
    "publish_ratings.start()\n",
    "\n",
    "# Properly close threads again\n",
    "get_ratings.join()\n",
    "for i in range(n_threads):\n",
    "    check_ratings[i].join()\n",
    "publish_ratings.join()"
   ]
  },
  {
   "cell_type": "markdown",
   "id": "a73f7b94-a7d2-4c33-ae7a-d55259c4cd27",
   "metadata": {},
   "source": [
    "Unter der Verwendung der multiprocessing Library dauert das Publizieren von 30 Bewertungen nur noch rund 6 Sekunden. Wenn wir uns erinnern, dass wir 30 Bewertungen bei einer Frequenz 5 Bewertungen pro Sekunde senden wollen, dann erwarten wir ohne die Beeinträchtigung der `check_data()` Funktion eine Laufzeit von ca. 6 Sekunden. Somit wurde das Bottleneck durch die Parallelisierung von `check_data()` erfolgreich behoben."
   ]
  },
  {
   "cell_type": "markdown",
   "id": "f01df7a2-1dd4-4ebd-a47a-1a2c55f3fe16",
   "metadata": {},
   "source": [
    "## Teil 4\n"
   ]
  },
  {
   "cell_type": "code",
   "execution_count": null,
   "id": "3e42b8e7-8d22-4364-bcbf-a6727e2df297",
   "metadata": {},
   "outputs": [],
   "source": [
    "Reflektion: "
   ]
  }
 ],
 "metadata": {
  "kernelspec": {
   "display_name": "Python 3 (ipykernel)",
   "language": "python",
   "name": "python3"
  },
  "language_info": {
   "codemirror_mode": {
    "name": "ipython",
    "version": 3
   },
   "file_extension": ".py",
   "mimetype": "text/x-python",
   "name": "python",
   "nbconvert_exporter": "python",
   "pygments_lexer": "ipython3",
   "version": "3.10.6"
  }
 },
 "nbformat": 4,
 "nbformat_minor": 5
}
