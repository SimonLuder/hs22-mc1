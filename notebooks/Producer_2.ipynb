{
 "cells": [
  {
   "cell_type": "markdown",
   "id": "5ca7b537-e10d-4d59-8e9c-b34638e8ae10",
   "metadata": {},
   "source": [
    "## Producer 2\n",
    "\n",
    "**Description**: \n",
    "Gets the rating csv's from the datasink folder and sends them to the specified framework kafka or rabbitmq."
   ]
  },
  {
   "cell_type": "code",
   "execution_count": null,
   "id": "5b0fb27e-9cc6-4780-a55e-c8e8c76e5fe0",
   "metadata": {},
   "outputs": [],
   "source": [
    "import json\n",
    "import time\n",
    "from helper_file import Producer\n",
    "import pandas as pd\n",
    "import os\n",
    "from message_struc_pb2 import AverageRating, AverageRatings\n",
    "\n",
    "def get_oldest_file(path):\n",
    "    list_of_files = os.listdir(path)\n",
    "    full_path = [f\"{path}/{file}\" for file in list_of_files if str(file).endswith(\".csv\")]\n",
    "    if len(full_path) == 0:\n",
    "        return None\n",
    "    oldest_file = min(full_path, key=os.path.getctime)\n",
    "    return oldest_file\n",
    "\n",
    "def get_archive_string(s):\n",
    "    s = s.split(\"/\")\n",
    "    s.insert(-1, 'archive')\n",
    "    return \"\".join([(f\"/{i}\") for i in s])[1:]\n",
    "\n",
    "topic = \"top_ratings\"\n",
    "path = \"src/datasink/\"\n",
    "hz = 1/10\n",
    "\n",
    "if not os.path.exists(path+\"archive/\"):\n",
    "    os.makedirs(path+\"archive/\")\n",
    "\n",
    "\n",
    "# producer2 = Producer(framework='kafka', host_name=\"broker1\", port=9093)\n",
    "producer_2 = Producer(framework='rabbitmq', host_name=\"rabbitmq1\", port=5672)\n",
    "\n",
    "while True:\n",
    "    file = get_oldest_file(path)\n",
    "    if file is not None:\n",
    "        df = pd.read_csv(file)\n",
    "        df = df.head(5)\n",
    "        avg_ratings = AverageRatings()\n",
    "        for i in range(len(df)):\n",
    "            single_avg = avg_ratings.average_rating.add()\n",
    "            single_avg.asin = str(df[\"asin\"][i])\n",
    "            single_avg.mean_overall = float(df[\"mean_overall\"][i])\n",
    "            single_avg.count = int(df[\"count\"][i])\n",
    "\n",
    "        producer_2.produce(topic, message=avg_ratings)\n",
    "        print(f\"File: {file} published\")\n",
    "        os.replace(file, get_archive_string(file))\n",
    "    time.sleep(1/hz)"
   ]
  },
  {
   "cell_type": "code",
   "execution_count": null,
   "id": "fb068bc2-6034-4f28-bb5a-18c9a1894510",
   "metadata": {},
   "outputs": [],
   "source": []
  }
 ],
 "metadata": {
  "kernelspec": {
   "display_name": "Python 3 (ipykernel)",
   "language": "python",
   "name": "python3"
  },
  "language_info": {
   "codemirror_mode": {
    "name": "ipython",
    "version": 3
   },
   "file_extension": ".py",
   "mimetype": "text/x-python",
   "name": "python",
   "nbconvert_exporter": "python",
   "pygments_lexer": "ipython3",
   "version": "3.10.6"
  }
 },
 "nbformat": 4,
 "nbformat_minor": 5
}
