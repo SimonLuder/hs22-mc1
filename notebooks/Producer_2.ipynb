{
 "cells": [
  {
   "cell_type": "markdown",
   "id": "5ca7b537-e10d-4d59-8e9c-b34638e8ae10",
   "metadata": {},
   "source": [
    "## Producer 2\n",
    "\n",
    "**Description**: \n",
    "Gets the rating csv's from the datasink folder and sends them to the specified framework kafka or rabbitmq."
   ]
  },
  {
   "cell_type": "code",
   "execution_count": null,
   "id": "f06573c7-facb-44b3-a849-95277a82008b",
   "metadata": {},
   "outputs": [],
   "source": [
    "import json\n",
    "import time\n",
    "from helper_file import Producer\n",
    "import pandas as pd\n",
    "import os\n",
    "\n",
    "topic = \"top_ratings\"\n",
    "path = \"src/datasink/\"\n",
    "hz = 1/10\n",
    "\n",
    "if not os.path.exists(path+\"archive/\"):\n",
    "    os.makedirs(path+\"archive/\")\n",
    "\n",
    "# producer = Producer(framework='kafka', host_name=\"broker1\", port=9093)\n",
    "producer_2 = Producer(framework='rabbitmq', host_name=\"rabbitmq1\", port=5672)\n",
    "\n",
    "while True:\n",
    "    for file in os.listdir(path):\n",
    "        if file.endswith(\".csv\"):\n",
    "            df = pd.read_csv(path+file)\n",
    "            df = df.head(5)\n",
    "            message = df.to_json()\n",
    "            producer_2.produce(topic, message)\n",
    "            print(f\"File: {file} published\")\n",
    "            os.replace(f\"{path}{file}\", f\"{path}archive/{file}\")\n",
    "    time.sleep(1/hz)"
   ]
  }
 ],
 "metadata": {
  "kernelspec": {
   "display_name": "Python 3 (ipykernel)",
   "language": "python",
   "name": "python3"
  },
  "language_info": {
   "codemirror_mode": {
    "name": "ipython",
    "version": 3
   },
   "file_extension": ".py",
   "mimetype": "text/x-python",
   "name": "python",
   "nbconvert_exporter": "python",
   "pygments_lexer": "ipython3",
   "version": "3.10.6"
  }
 },
 "nbformat": 4,
 "nbformat_minor": 5
}
