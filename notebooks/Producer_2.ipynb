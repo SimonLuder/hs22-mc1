{
 "cells": [
  {
   "cell_type": "markdown",
   "id": "5ca7b537-e10d-4d59-8e9c-b34638e8ae10",
   "metadata": {},
   "source": [
    "## Producer 2\n",
    "\n",
    "**Description**: \n",
    "Gets the rating csv's from the datasink folder and sends them to the specified framework kafka or rabbitmq."
   ]
  },
  {
   "cell_type": "code",
   "execution_count": null,
   "id": "5b3b374e-7fb5-45db-bc29-cb18b49e54aa",
   "metadata": {},
   "outputs": [],
   "source": [
    "import json\n",
    "import time\n",
    "from helper_file import Producer_1\n",
    "import pandas as pd\n",
    "import os\n",
    "\n",
    "topic = \"top_ratings\"\n",
    "path = \"src/datasink/\"\n",
    "hz = 1/10\n",
    "\n",
    "producer = Producer_1(framework='kafka', host_name=\"broker1\", port=9093)\n",
    "# producer = Producer_1(framework='rabbitmq', host_name=\"rabbitmq1\", port=5672)\n",
    "\n",
    "while True:\n",
    "    for file in os.listdir(path):\n",
    "        if file.endswith(\".csv\"):\n",
    "            df = pd.read_csv(path+file)\n",
    "            message = df.to_json()\n",
    "            producer.produce(topic, message)\n",
    "            print(f\"File: {file} published\")\n",
    "            os.remove(path+file)\n",
    "    time.sleep(1/hz)"
   ]
  }
 ],
 "metadata": {
  "kernelspec": {
   "display_name": "Python 3 (ipykernel)",
   "language": "python",
   "name": "python3"
  },
  "language_info": {
   "codemirror_mode": {
    "name": "ipython",
    "version": 3
   },
   "file_extension": ".py",
   "mimetype": "text/x-python",
   "name": "python",
   "nbconvert_exporter": "python",
   "pygments_lexer": "ipython3",
   "version": "3.10.6"
  }
 },
 "nbformat": 4,
 "nbformat_minor": 5
}
