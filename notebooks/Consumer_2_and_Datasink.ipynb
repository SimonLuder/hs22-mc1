{
 "cells": [
  {
   "cell_type": "markdown",
   "id": "6326367d-f377-44a6-9055-a9975f963207",
   "metadata": {},
   "source": [
    "## Consumer 2 & Datasink\n",
    "\n",
    "**Description:** Consumes the top_rated products and visualizes it as barplot."
   ]
  },
  {
   "cell_type": "code",
   "execution_count": null,
   "id": "6fa8b280-cd1f-422a-94e8-ef5286fe79c5",
   "metadata": {},
   "outputs": [],
   "source": [
    "import warnings\n",
    "warnings.filterwarnings(\"ignore\") \n",
    "from message_struc_pb2 import AverageRating, AverageRatings\n",
    "\n",
    "from helper_file import Consumer, DataSink_2\n",
    "\n",
    "topic = \"top_ratings\"\n",
    "\n",
    "datasink_2 = DataSink_2(path=\"./src/datasink/\")\n",
    "\n",
    "# consumer_2 = Consumer(datasink_2, framework='kafka', host_name=\"broker1\", port=9093)\n",
    "consumer_2 = Consumer(datasink_2, framework='rabbitmq', host_name=\"rabbitmq1\", port=5672)\n",
    "\n",
    "consumer_2.consume(topic, AverageRatings)"
   ]
  },
  {
   "cell_type": "code",
   "execution_count": null,
   "id": "3d4efd4b-58d3-4672-9adb-6d4fff69f367",
   "metadata": {},
   "outputs": [],
   "source": []
  }
 ],
 "metadata": {
  "kernelspec": {
   "display_name": "Python 3 (ipykernel)",
   "language": "python",
   "name": "python3"
  },
  "language_info": {
   "codemirror_mode": {
    "name": "ipython",
    "version": 3
   },
   "file_extension": ".py",
   "mimetype": "text/x-python",
   "name": "python",
   "nbconvert_exporter": "python",
   "pygments_lexer": "ipython3",
   "version": "3.10.6"
  }
 },
 "nbformat": 4,
 "nbformat_minor": 5
}
